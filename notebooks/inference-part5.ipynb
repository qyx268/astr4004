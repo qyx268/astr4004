{
 "cells": [
  {
   "attachments": {},
   "cell_type": "markdown",
   "id": "28204d02-5070-4b89-82ff-b20b5c978d14",
   "metadata": {},
   "source": [
    "# <center>ASTR4004/8004 - Inference - Part 5</center> \n",
    "\n",
    "## Simulation-based inference\n",
    "\n",
    "Our goal is to perform inference on a model's parameters $\\theta$ given observations $D$ and learn the posterior distribution $P(\\theta|D)$. Normally, we do this with Bayes' rule:\n",
    "$$\n",
    "P(\\theta|D)=P(D|\\theta)\\frac{P(\\theta)}{P(D)},\n",
    "$$\n",
    "which relies on the likelihood function $P(D|\\theta)$.\n",
    "\n",
    "<font color='red'> However, what if we don't know the likelihood or there is no functional form to evaluate the likelihood?</font>\n",
    "\n",
    "Remember our model can reproduce different sets of output $D'$ for given $\\theta$. This means that we can measure *the frequecy of those outputs that reproduce/match the real data ($D$) to obtain a probability $P(\\theta|D)$*, which is the posterior probability. \n",
    "\n",
    "This notebook shows a simple example of linear regression using `sbi` and its backend PyTorch (`torch`)."
   ]
  },
  {
   "cell_type": "markdown",
   "id": "d62afe66-7673-4489-8a44-6266e67371f1",
   "metadata": {},
   "source": [
    "## Useful packages"
   ]
  },
  {
   "cell_type": "code",
   "execution_count": null,
   "id": "ececb83d-60ec-4635-b847-694bfc5c794b",
   "metadata": {},
   "outputs": [],
   "source": [
    "import numpy as np\n",
    "import matplotlib.pyplot as plt\n",
    "import torch\n",
    "from sbi.utils import BoxUniform\n",
    "from sbi.inference.base import infer\n",
    "import corner"
   ]
  },
  {
   "cell_type": "markdown",
   "id": "6f4dd93d-b47d-4ac6-9e93-755a8179ce68",
   "metadata": {},
   "source": [
    "## Data (D) and the task\n",
    "We will be given a dataset `(x, y)` and the task is to fit a linear function of `y=mx+b` to these data points."
   ]
  },
  {
   "cell_type": "code",
   "execution_count": null,
   "id": "ade89c8c-77b5-4aeb-b194-a9e520f02848",
   "metadata": {},
   "outputs": [],
   "source": [
    "# Set seed for reproducibility\n",
    "np.random.seed(0)\n",
    "\n",
    "# Generate dataset (100 data points) following y = m * x +b\n",
    "m_true = -0.9\n",
    "b_true = 4.3\n",
    "f_true = 0.5\n",
    "\n",
    "n_data = 50\n",
    "x = np.sort(10 * np.random.random(n_data)) # uniform random points between 0 and 10\n",
    "yerr = 0.1 + 2.0 * np.random.random(n_data) # generate a uniform random error (standard deviation) between 0.1 and 5.1\n",
    "y = m_true * x + b_true # array of exact y values correspond to x for the true parameters.\n",
    "y += yerr * np.random.standard_normal(n_data) # perturb the exact y values according to yerr\n",
    "y += np.abs(f_true * y) * np.random.standard_normal(n_data) #random noise that depends on y\n",
    "\n",
    "plt.errorbar(x, y, yerr=yerr, fmt='k.')\n",
    "plt.xlabel('x')\n",
    "plt.ylabel('y')"
   ]
  },
  {
   "cell_type": "markdown",
   "id": "2c052a1b-b6a3-4feb-887b-383c960d5430",
   "metadata": {},
   "source": [
    "## Propose your model\n",
    "* It \"seems\" that our dataset $D$ follows a linear correlation.\n",
    "* We also have some prior knowledge on the level of the error and know there is an error term which depends on `y` (e.g. thermal noise $\\propto$ thermal energy)\n",
    "* So we decide to fit it against a linear function of `y=mx+b`.\n",
    "* We will also consider the extra error term ($\\ln{f}$) when writing the likelihood.\n",
    "* Therefore, out parameter $\\theta$ corresponds to ($m$, $b$, $\\ln{f}$)."
   ]
  },
  {
   "cell_type": "markdown",
   "id": "9836a74e-2456-41ee-b3d3-1037b18332ef",
   "metadata": {},
   "source": [
    "## Define the prior"
   ]
  },
  {
   "cell_type": "code",
   "execution_count": null,
   "id": "bc570bda-fe28-4f16-a374-5d0b0f825683",
   "metadata": {},
   "outputs": [],
   "source": [
    "m_min, m_max = -5, 5\n",
    "b_min, b_max = -10, 10\n",
    "lnf_min, lnf_max = -6, 6\n",
    "prior = BoxUniform(\n",
    "    low=torch.tensor([m_min, b_min, lnf_min]),\n",
    "    high=torch.tensor([m_max, b_max, lnf_max])\n",
    ")"
   ]
  },
  {
   "cell_type": "markdown",
   "id": "94ecf3b5-1125-4b1d-b3a9-451ae8e1f965",
   "metadata": {},
   "source": [
    "## Define the simulator/model"
   ]
  },
  {
   "cell_type": "code",
   "execution_count": null,
   "id": "8303a59d-12cf-4b39-b18d-c01ca4f13ccb",
   "metadata": {},
   "outputs": [],
   "source": [
    "def simulator(params):\n",
    "    ...\n",
    "    return y"
   ]
  },
  {
   "cell_type": "markdown",
   "id": "f2a8e2d2-4953-4429-900d-9a27e034eef7",
   "metadata": {},
   "source": [
    "## Sample the parameter space and estimate the density distribution"
   ]
  },
  {
   "cell_type": "code",
   "execution_count": null,
   "id": "41fff8d4-0b31-4c80-b983-42acea93ddc7",
   "metadata": {},
   "outputs": [],
   "source": [
    "posterior = infer(\n",
    "    simulator,\n",
    "    prior,\n",
    "    method='SNRE',\n",
    "    num_simulations=10000,\n",
    "    )"
   ]
  },
  {
   "cell_type": "markdown",
   "id": "0b014770-6b92-467a-8445-99c29fd45221",
   "metadata": {},
   "source": [
    "## Evaluate the posterior by conditioning probability on the data"
   ]
  },
  {
   "cell_type": "code",
   "execution_count": null,
   "id": "e8fd9a1a-20de-4e42-b6b8-41b0fb15b48a",
   "metadata": {},
   "outputs": [],
   "source": [
    "# Generate the 3D grid of coordinates\n",
    "ms = np.linspace(m_min, m_max, 50, dtype=np.float32)\n",
    "bs = np.linspace(b_min, b_max, 50, dtype=np.float32)\n",
    "lnfs = np.linspace(lnf_min, lnf_max, 50, dtype=np.float32)\n",
    "\n",
    "m_grid, b_grid, lnf_grid = np.meshgrid(ms, bs, lnfs, indexing='ij')\n",
    "\n",
    "# Reshape the grids into 1D arrays and stack them into a grid of points\n",
    "grids = torch.from_numpy(np.vstack([m_grid.ravel(), b_grid.ravel(), lnf_grid.ravel()]).T)\n",
    "log_prob = posterior.log_prob(grids, y).reshape(*m_grid.shape)\n",
    "prob = np.exp(log_prob).numpy()"
   ]
  },
  {
   "cell_type": "markdown",
   "id": "929ad2cd-bf70-4984-a69e-93f5373a40bc",
   "metadata": {},
   "source": [
    "## Plot the marginal posterior distribution"
   ]
  },
  {
   "cell_type": "code",
   "execution_count": null,
   "id": "863db464-b5e7-4c82-939a-3d842738eec3",
   "metadata": {},
   "outputs": [],
   "source": [
    "# Compute the marginal distributions by summing over the axes\n",
    "# Marginal over m, b, and lnf respectively\n",
    "m_marginal = ...  # Sum over b and lnf axes\n",
    "b_marginal = ...  # Sum over m and lnf axes\n",
    "lnf_marginal = ...  # Sum over m and b axes\n",
    "\n",
    "# Compute 2D marginal distributions (joint distributions)\n",
    "mb_marginal = ...  # Sum over lnf to get m-b marginal\n",
    "mlnf_marginal = ...  # Sum over b to get m-lnf marginal\n",
    "blnf_marginal = ...  # Sum over m to get b-lnf marginal\n",
    "\n",
    "# Create a 3x3 corner plot\n",
    "fig, axes = plt.subplots(3, 3, figsize=(6, 6), sharex='col')\n",
    "\n",
    "# List of labels\n",
    "labels = ['m', 'b', 'lnf']\n",
    "\n",
    "# Diagonal: Plot the 1D marginal distributions\n",
    "axes[0, 0].plot(ms, m_marginal, c='k')\n",
    "axes[1, 1].plot(bs, b_marginal, c='k')\n",
    "axes[2, 2].plot(lnfs, lnf_marginal, c='k')\n",
    "axes[0, 0].set_yticks([])\n",
    "axes[1, 1].set_yticks([])\n",
    "axes[2, 2].set_yticks([])\n",
    "axes[0, 0].axvline(m_true)\n",
    "axes[1, 1].axvline(b_true)\n",
    "axes[2, 2].axvline(np.log(f_true))\n",
    "axes[2, 2].set_xlabel('lnf')\n",
    "\n",
    "# Off-diagonal: Plot the 2D marginal distributions as heatmaps\n",
    "# m vs b (top left corner)\n",
    "axes[1, 0].contourf(mb_marginal.T, origin='lower', extent=[m_min, m_max, b_min, b_max], cmap='Greys')\n",
    "axes[1, 0].set_ylabel('b')\n",
    "axes[1, 0].axhline(b_true)\n",
    "axes[1, 0].axvline(m_true)\n",
    "axes[1, 0].scatter(m_true, b_true, marker='s')\n",
    "\n",
    "# m vs lnf (bottom left corner)\n",
    "axes[2, 0].contourf(mlnf_marginal.T, origin='lower', extent=[m_min, m_max, lnf_min, lnf_max], cmap='Greys')\n",
    "axes[2, 0].set_xlabel('m')\n",
    "axes[2, 0].set_ylabel('lnf')\n",
    "axes[2, 0].axhline(np.log(f_true))\n",
    "axes[2, 0].axvline(m_true)\n",
    "axes[2, 0].scatter(m_true, np.log(f_true), marker='s')\n",
    "\n",
    "# b vs lnf (bottom middle)\n",
    "axes[2, 1].contourf(blnf_marginal.T, origin='lower', extent=[b_min, b_max, lnf_min, lnf_max], cmap='Greys')\n",
    "axes[2, 1].set_xlabel('b')\n",
    "axes[2, 1].set_ylim(axes[2, 0].get_ylim())\n",
    "axes[2, 1].set_yticks([])\n",
    "axes[2, 1].axhline(np.log(f_true))\n",
    "axes[2, 1].axvline(b_true)\n",
    "axes[2, 1].scatter(b_true, np.log(f_true), marker='s')\n",
    "\n",
    "# Hide the unused plots (upper right plots)\n",
    "axes[0, 1].axis('off')\n",
    "axes[0, 2].axis('off')\n",
    "axes[1, 2].axis('off')\n",
    "\n",
    "# Adjust layout for better viewing\n",
    "plt.tight_layout()\n",
    "plt.subplots_adjust(hspace=0.05, wspace=0.05)"
   ]
  },
  {
   "cell_type": "markdown",
   "id": "18784faa-bdff-4798-89df-d01220a666c4",
   "metadata": {},
   "source": [
    "## randomly sample 100 from the posterior and plot the model against data"
   ]
  },
  {
   "cell_type": "code",
   "execution_count": null,
   "id": "1669d1cd-8820-475e-bade-587a532524aa",
   "metadata": {},
   "outputs": [],
   "source": [
    "samples = posterior.sample((100,), x=y)\n",
    "\n",
    "x_ref = np.linspace(0,10, 100)\n",
    "for sample in samples:\n",
    "    m,b,lnf = sample\n",
    "    plt.plot(x_ref, m*x_ref + b, c=\"blue\", alpha=0.01)\n",
    "    \n",
    "plt.errorbar(x, y, yerr=yerr, fmt=\".k\", capsize=0)\n",
    "plt.plot(x_ref, m_true * x_ref + b_true, \"k\")\n",
    "plt.xlabel('x')\n",
    "plt.ylabel('y');"
   ]
  },
  {
   "cell_type": "code",
   "execution_count": null,
   "id": "b4944752-94e8-4ccb-a288-a3ad54a71f0e",
   "metadata": {},
   "outputs": [],
   "source": []
  }
 ],
 "metadata": {
  "kernelspec": {
   "display_name": "Python 3 (ipykernel)",
   "language": "python",
   "name": "python3"
  },
  "language_info": {
   "codemirror_mode": {
    "name": "ipython",
    "version": 3
   },
   "file_extension": ".py",
   "mimetype": "text/x-python",
   "name": "python",
   "nbconvert_exporter": "python",
   "pygments_lexer": "ipython3",
   "version": "3.8.5"
  }
 },
 "nbformat": 4,
 "nbformat_minor": 5
}
