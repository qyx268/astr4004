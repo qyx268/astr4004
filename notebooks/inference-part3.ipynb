{
 "cells": [
  {
   "cell_type": "markdown",
   "id": "28204d02-5070-4b89-82ff-b20b5c978d14",
   "metadata": {},
   "source": [
    "# <center>ASTR4004/8004 - Inference - Part 3</center> \n",
    "\n",
    "## Bayes' theorem:\n",
    "$$\n",
    "P(\\theta|D)=P(D|\\theta)\\frac{P(\\theta)}{P(D)}\n",
    "$$\n",
    "\n",
    "* $P(D|\\theta)$: the likelihood function, representing the probability of observing the data ($D$) given a specific set of modeling parameters ($\\theta$)\n",
    "* $P(\\theta)$: the prior probability distribution over the modeling parameters ($\\theta$). This represents our initial beliefs of possible values of $\\theta$\n",
    "* $P(D)\\equiv \\sum \\limits_{\\theta} P(D,\\theta)=\\sum \\limits_{\\theta} P(D|\\theta)P(\\theta) = \\int {\\rm d}\\theta P(\\theta) P(D|\\theta)$: the marginal likelihood or Bayesian evidence, representing the overall probability of observing the data (D)\n",
    "* $P(\\theta|D)$: the posterior probability distribution over the modeling parameters ($\\theta$) given the data.\n",
    "\n",
    "This notebook fits the correlation between input and output using the `emcee` package. We will also make `corner` plot to show the posterior."
   ]
  },
  {
   "cell_type": "markdown",
   "id": "d62afe66-7673-4489-8a44-6266e67371f1",
   "metadata": {},
   "source": [
    "## Useful packages"
   ]
  },
  {
   "cell_type": "code",
   "execution_count": null,
   "id": "ececb83d-60ec-4635-b847-694bfc5c794b",
   "metadata": {},
   "outputs": [],
   "source": [
    "import numpy as np\n",
    "import matplotlib.pyplot as plt\n",
    "import emcee\n",
    "import corner"
   ]
  },
  {
   "cell_type": "markdown",
   "id": "6f4dd93d-b47d-4ac6-9e93-755a8179ce68",
   "metadata": {},
   "source": [
    "## Data (D) and the task\n",
    "We will be given a dataset `(x, y)` and the task is to fit a linear function of `y=mx+b` to these data points."
   ]
  },
  {
   "cell_type": "code",
   "execution_count": null,
   "id": "ade89c8c-77b5-4aeb-b194-a9e520f02848",
   "metadata": {},
   "outputs": [],
   "source": [
    "# Set seed for reproducibility\n",
    "np.random.seed(0)\n",
    "\n",
    "# Generate dataset (100 data points) following y = m * x +b\n",
    "m_true = -0.9\n",
    "b_true = 5.3\n",
    "\n",
    "n_data = 50\n",
    "x = np.sort(10 * np.random.random(n_data)) # uniform random points between 0 and 10\n",
    "yerr = 0.1 + 5.0 * np.random.random(n_data) # generate a uniform random error (standard deviation) between 0.1 and 5.1\n",
    "y = m_true * x + b_true # array of exact y values correspond to x for the true parameters.\n",
    "y += yerr * np.random.standard_normal(n_data) # perturb the exact y values according to yerr\n",
    "\n",
    "plt.errorbar(x, y, yerr=yerr, fmt='k.')\n",
    "plt.xlabel('x')\n",
    "plt.ylabel('y');"
   ]
  },
  {
   "cell_type": "markdown",
   "id": "2c052a1b-b6a3-4feb-887b-383c960d5430",
   "metadata": {},
   "source": [
    "## Propose your model\n",
    "* It \"seems\" that our dataset $D$ follows a linear correlation. So we decide to fit it against a linear function of `y=mx+b`.\n",
    "* Therefore, out parameter $\\theta$ corresponds to ($m$, $b$)."
   ]
  },
  {
   "cell_type": "markdown",
   "id": "563f8bf0-93c0-457c-a31c-3b0a36baf3ca",
   "metadata": {},
   "source": [
    "## Define the prior of your model parametersm"
   ]
  },
  {
   "cell_type": "code",
   "execution_count": null,
   "id": "93277df0-269c-4d6a-a956-9022e7d326cd",
   "metadata": {},
   "outputs": [],
   "source": [
    "m_min, m_max = -5, 5\n",
    "b_min, b_max = -10, 10\n",
    "def lnprior(params):\n",
    "    \"\"\"\n",
    "    This is the prior. This function takes in an array of parameters, and returns\n",
    "    the associated likelihood of those parameters independent of the data.\n",
    "    \"\"\"\n",
    "    m, b = params\n",
    "    ..."
   ]
  },
  {
   "cell_type": "markdown",
   "id": "58ca54f5-0018-491b-86d1-c5c54964bc94",
   "metadata": {},
   "source": [
    "## Calculate the likelihood "
   ]
  },
  {
   "cell_type": "code",
   "execution_count": null,
   "id": "8303a59d-12cf-4b39-b18d-c01ca4f13ccb",
   "metadata": {},
   "outputs": [],
   "source": [
    "def lnlike(params, x, y, yerr):\n",
    "    \"\"\"\n",
    "    This is the likelihood. This function takes in an array of parameters, \n",
    "    as well as the values from our data vector (in this case x, y, and \n",
    "    the error on y). It returns the total log(likelihood), i.e. p(D | theta).\n",
    "    \"\"\"\n",
    "    #simple case\n",
    "    m, b = params\n",
    "\n",
    "    ..."
   ]
  },
  {
   "cell_type": "markdown",
   "id": "7186cd7c-f248-4462-aca2-6341f956cc27",
   "metadata": {},
   "source": [
    "## Obtain the posterior"
   ]
  },
  {
   "cell_type": "code",
   "execution_count": null,
   "id": "616970ab-5120-493c-9c67-828963c8bc61",
   "metadata": {},
   "outputs": [],
   "source": [
    "def lnprob(params, x, y, yerr):\n",
    "    \"\"\"\n",
    "    This defines the posterior. Following Bayes' Theorem, the posterior is just the \n",
    "    product of the prior and the likelihood. Conveniently, this is just a sum on log-space.\"\"\"\n",
    "    ...\n",
    "    "
   ]
  },
  {
   "cell_type": "markdown",
   "id": "952e1896-e8c4-44eb-833b-c8646d0d363c",
   "metadata": {},
   "source": [
    "## Bayesian inference"
   ]
  },
  {
   "cell_type": "code",
   "execution_count": null,
   "id": "41fff8d4-0b31-4c80-b983-42acea93ddc7",
   "metadata": {},
   "outputs": [],
   "source": [
    "colors = ['#e41a1c','#377eb8','#4daf4a','#984ea3','#ff7f00','#ffff33','#a65628','#f781bf']\n",
    "ndim        = 2 #number of dimensions (here it's 2: m and b)\n",
    "num_samples = 8 #number of walkers to run parallel MCMC chains\n",
    "num_steps   = 1000 # Number of inteferencing steps\n",
    "\n",
    "#make a starting point as a ball of random numbers\n",
    "p0 = np.random.randn(num_samples, ndim) * 0.1\n",
    "#p0[:,0] += m_true\n",
    "#p0[:,1] += b_true\n",
    "sampler = emcee.EnsembleSampler(num_samples, ndim, lnprob, args=(x,y,yerr)) # defining the sampler\n",
    "sampler.run_mcmc(p0, num_steps) # run MCMC\n",
    "chains = sampler.chain # obtain the sample\n",
    "lnprobability = sampler.lnprobability # obtain the probability"
   ]
  },
  {
   "cell_type": "code",
   "execution_count": null,
   "id": "a8ea330d-2309-4500-94b4-1aab4256df27",
   "metadata": {},
   "outputs": [],
   "source": [
    "fig = plt.figure(figsize=(12, 6))\n",
    "    \n",
    "ax1 = fig.add_subplot(141)  # Note: add_subplot takes the position from left to right and top to bottom\n",
    "ax1.set_position([0.05, 0.05, 0.47, 0.94])  # Set the position and size of the subplot\n",
    "    \n",
    "ax21 = fig.add_subplot(142)  # Note: add_subplot takes the position from left to right and top to bottom\n",
    "ax21.set_position([0.59, 0.69, 0.4, 0.3])  # Set the position and size of the subplot\n",
    "    \n",
    "ax22 = fig.add_subplot(143)  # Note: add_subplot takes the position from left to right and top to bottom\n",
    "ax22.set_position([0.59, 0.37, 0.4, 0.3])  # Set the position and size of the subplot\n",
    "\n",
    "ax23 = fig.add_subplot(144)  # Note: add_subplot takes the position from left to right and top to bottom\n",
    "ax23.set_position([0.59, 0.05, 0.4, 0.3])  # Set the position and size of the subplot\n",
    "\n",
    "for iwalker in range(num_samples):\n",
    "    # Plot one chain in 2D parameter space\n",
    "    if iwalker==0:\n",
    "        ax1.plot(chains[iwalker,:,0], chains[iwalker,:,1], marker='o', lw=1,markersize=1,alpha=0.3, zorder=1, color=colors[iwalker])\n",
    "\n",
    "    # Plot the Markov Chain\n",
    "    ax21.plot(chains[iwalker,:,0], lw=1, alpha=0.3, color=colors[iwalker])\n",
    "    ax22.plot(chains[iwalker,:,1], lw=1, alpha=0.3, color=colors[iwalker])\n",
    "    ax23.plot(lnprobability[iwalker], lw=1, alpha=0.3, color=colors[iwalker])\n",
    "\n",
    "ax1.scatter(m_true, b_true, marker='*', c='k', s=500, zorder=2)\n",
    "ax1.set_xlabel(r'$m$')\n",
    "ax1.set_ylabel(r'$b$')\n",
    "    \n",
    "ax1.text(0.02, 0.98, r'varying $\\mu$, $\\sigma$',\n",
    "         ha='left', va='top', transform=ax1.transAxes)\n",
    "\n",
    "# Show the truth\n",
    "ax21.axhline(m_true, color='k')\n",
    "ax22.axhline(b_true, color='k')\n",
    "\n",
    "ax21.set_xlim(0, num_steps)\n",
    "ax22.set_xlim(0, num_steps)\n",
    "ax23.set_xlim(0, num_steps)\n",
    "\n",
    "ax21.set_xticks([])\n",
    "ax22.set_xticks([])\n",
    "ax23.set_xlabel('step')\n",
    "\n",
    "ax21.set_ylabel(r'$m$')\n",
    "ax22.set_ylabel(r'$b$')\n",
    "ax23.set_ylabel('ln (likelihood)')"
   ]
  },
  {
   "cell_type": "markdown",
   "id": "a5e6b8de-67c3-418a-95c4-343f6b77ddc6",
   "metadata": {},
   "source": [
    "## corner plot"
   ]
  },
  {
   "cell_type": "code",
   "execution_count": null,
   "id": "83a1756f-6d5a-4b8a-86d6-a130b3bc9f59",
   "metadata": {},
   "outputs": [],
   "source": [
    "n_burn = 100\n",
    "plot_data = chains[:,n_burn:].reshape([-1,2])\n",
    "figure = corner.corner(plot_data, \n",
    "                       levels=[0, 0.68, 0.95],  # contour levels\n",
    "                       color='k',alpha=1,      \n",
    "                       truths=[m_true, b_true], # show the truths \n",
    "                       labels=['m','b'],\n",
    "                       range=((m_min,m_max),(b_min,b_max)), bins=50, smooth=1)"
   ]
  },
  {
   "cell_type": "markdown",
   "id": "1f0d986d-85c4-4f0e-834f-5c96af6adf76",
   "metadata": {},
   "source": [
    "## pick 100 random samples from the posterior and plot the model against data"
   ]
  },
  {
   "cell_type": "code",
   "execution_count": null,
   "id": "1669d1cd-8820-475e-bade-587a532524aa",
   "metadata": {},
   "outputs": [],
   "source": [
    "...\n",
    "\n",
    "plt.errorbar(x, y, yerr=yerr, fmt=\".k\", capsize=0)\n",
    "plt.plot(x_ref, m_true * x_ref + b_true, \"k\")\n",
    "plt.xlabel('x')\n",
    "plt.ylabel('y');"
   ]
  },
  {
   "cell_type": "code",
   "execution_count": null,
   "id": "ab54f4a9-8131-42be-82b2-1dba918bd033",
   "metadata": {},
   "outputs": [],
   "source": []
  }
 ],
 "metadata": {
  "kernelspec": {
   "display_name": "Python 3 (ipykernel)",
   "language": "python",
   "name": "python3"
  },
  "language_info": {
   "codemirror_mode": {
    "name": "ipython",
    "version": 3
   },
   "file_extension": ".py",
   "mimetype": "text/x-python",
   "name": "python",
   "nbconvert_exporter": "python",
   "pygments_lexer": "ipython3",
   "version": "3.8.5"
  }
 },
 "nbformat": 4,
 "nbformat_minor": 5
}
